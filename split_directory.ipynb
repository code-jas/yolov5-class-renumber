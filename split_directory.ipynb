{
 "cells": [
  {
   "attachments": {},
   "cell_type": "markdown",
   "metadata": {},
   "source": [
    " Python function that takes a main_folder path and splits its contents into three subfolders, train, test, and valid, based on a given percentage split:"
   ]
  },
  {
   "cell_type": "code",
   "execution_count": 2,
   "metadata": {},
   "outputs": [],
   "source": [
    "import os\n",
    "import shutil\n",
    "import random\n",
    "\n",
    "def split_directory(main_folder, copy_folder, split=(0.8, 0.1, 0.1)):\n",
    "    assert sum(split) == 1, \"Split percentages should add up to 1.\"\n",
    "    assert all([os.path.isdir(main_folder), os.path.isdir(copy_folder)]), \"Folder paths should be valid directories.\"\n",
    "    \n",
    "    # Create subdirectories if they don't exist\n",
    "    for subdir in ['train', 'test', 'valid']:\n",
    "        path = os.path.join(copy_folder, subdir)\n",
    "        os.makedirs(path, exist_ok=True)\n",
    "\n",
    "    # Get all files in the main folder\n",
    "    files = os.listdir(main_folder)\n",
    "\n",
    "    # Shuffle files randomly\n",
    "    random.shuffle(files)\n",
    "\n",
    "    # Calculate split points based on percentages\n",
    "    split_points = [int(len(files) * split[0]), int(len(files) * (split[0] + split[1]))]\n",
    "\n",
    "    # Copy files to subdirectories based on split points\n",
    "    for i, filename in enumerate(files):\n",
    "        source_path = os.path.join(main_folder, filename)\n",
    "        if i < split_points[0]:\n",
    "            dest_path = os.path.join(copy_folder, 'train', filename)\n",
    "        elif i < split_points[1]:\n",
    "            dest_path = os.path.join(copy_folder, 'test', filename)\n",
    "        else:\n",
    "            dest_path = os.path.join(copy_folder, 'valid', filename)\n",
    "        shutil.copy2(source_path, dest_path)\n"
   ]
  },
  {
   "cell_type": "code",
   "execution_count": 4,
   "metadata": {},
   "outputs": [],
   "source": [
    "main_folder = \"E:/Export_PersonOnlyCOCO/Export_PersonOnlyCOCO/images/val\"\n",
    "copy_folder = \"E:/Export_PersonOnlyCOCO/Export_PersonOnlyCOCO/Person/image2\"\n",
    "split = (0.8, 0.1, 0.1)\n",
    "\n",
    "split_directory(main_folder, copy_folder, split)\n"
   ]
  },
  {
   "cell_type": "code",
   "execution_count": 7,
   "metadata": {},
   "outputs": [],
   "source": [
    "import os\n",
    "import shutil\n",
    "import random\n",
    "\n",
    "def split_directory(main_folder, copy_folder, split=(0.8, 0.1, 0.1)):\n",
    "    assert sum(split) == 1, \"Split percentages should add up to 1.\"\n",
    "    assert all([os.path.isdir(main_folder), os.path.isdir(copy_folder)]), \"Folder paths should be valid directories.\"\n",
    "    \n",
    "    # Create subdirectories if they don't exist\n",
    "    for subdir in ['train', 'test', 'valid']:\n",
    "        path = os.path.join(copy_folder, subdir)\n",
    "        os.makedirs(path, exist_ok=True)\n",
    "\n",
    "    # Get all label files in the main folder\n",
    "    label_files = [filename for filename in os.listdir(main_folder) if filename.endswith('.txt')]\n",
    "\n",
    "    # Shuffle label files randomly\n",
    "    random.shuffle(label_files)\n",
    "\n",
    "    # Calculate split points based on percentages\n",
    "    split_points = [int(len(label_files) * split[0]), int(len(label_files) * (split[0] + split[1]))]\n",
    "\n",
    "    # Copy label and image files to subdirectories based on split points\n",
    "    for i, filename in enumerate(label_files):\n",
    "        source_label_path = os.path.join(main_folder, filename)\n",
    "        image_filename = os.path.splitext(filename)[0] + '.jpg'\n",
    "        source_image_path = os.path.join(main_folder, image_filename)\n",
    "        if i < split_points[0]:\n",
    "            dest_label_path = os.path.join(copy_folder, 'train', filename)\n",
    "            dest_image_path = os.path.join(copy_folder, 'train', image_filename)\n",
    "        elif i < split_points[1]:\n",
    "            dest_label_path = os.path.join(copy_folder, 'test', filename)\n",
    "            dest_image_path = os.path.join(copy_folder, 'test', image_filename)\n",
    "        else:\n",
    "            dest_label_path = os.path.join(copy_folder, 'valid', filename)\n",
    "            dest_image_path = os.path.join(copy_folder, 'valid', image_filename)\n",
    "        shutil.copy2(source_label_path, dest_label_path)\n",
    "        shutil.copy2(source_image_path, dest_image_path)\n"
   ]
  },
  {
   "cell_type": "code",
   "execution_count": 9,
   "metadata": {},
   "outputs": [],
   "source": [
    "main_folder = \"E:/Export_PersonOnlyCOCO/Export_PersonOnlyCOCO/images/val\"\n",
    "copy_folder = \"E:/Export_PersonOnlyCOCO/Export_PersonOnlyCOCO/Person/labels\"\n",
    "split = (0.8, 0.1, 0.1)\n",
    "\n",
    "split_directory(main_folder, copy_folder, split)"
   ]
  },
  {
   "cell_type": "code",
   "execution_count": null,
   "metadata": {},
   "outputs": [],
   "source": []
  }
 ],
 "metadata": {
  "kernelspec": {
   "display_name": "tf_libraries",
   "language": "python",
   "name": "python3"
  },
  "language_info": {
   "codemirror_mode": {
    "name": "ipython",
    "version": 3
   },
   "file_extension": ".py",
   "mimetype": "text/x-python",
   "name": "python",
   "nbconvert_exporter": "python",
   "pygments_lexer": "ipython3",
   "version": "3.9.13"
  },
  "orig_nbformat": 4
 },
 "nbformat": 4,
 "nbformat_minor": 2
}
