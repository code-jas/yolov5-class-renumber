{
 "cells": [
  {
   "attachments": {},
   "cell_type": "markdown",
   "metadata": {},
   "source": [
    "# WEAPON DATASET "
   ]
  },
  {
   "attachments": {},
   "cell_type": "markdown",
   "metadata": {},
   "source": [
    "### Count the instances per class"
   ]
  },
  {
   "cell_type": "code",
   "execution_count": 2,
   "metadata": {},
   "outputs": [],
   "source": [
    "import os\n",
    "\n",
    "def count_ones(folder_path, idx_value):\n",
    "  # initialize a counter to 0\n",
    "  count = 0\n",
    "\n",
    "  # get a list of all text files in the folder\n",
    "  file_list = [f for f in os.listdir(folder_path) if f.endswith('.txt')]\n",
    "\n",
    "  # iterate through the list of files\n",
    "  for file in file_list:\n",
    "    # open the file and read its contents\n",
    "    with open(os.path.join(folder_path, file), 'r') as f:\n",
    "      lines = f.readlines()\n",
    "\n",
    "    # iterate through the lines in the file\n",
    "    for line in lines:\n",
    "      # check if the first character is \"1\"\n",
    "      if line[0] == idx_value:\n",
    "        # if it is, increment the counter\n",
    "        count += 1\n",
    "\n",
    "  # return the final count\n",
    "  return count\n",
    "\n"
   ]
  },
  {
   "cell_type": "code",
   "execution_count": 9,
   "metadata": {},
   "outputs": [
    {
     "name": "stdout",
     "output_type": "stream",
     "text": [
      "0\n"
     ]
    }
   ],
   "source": [
    "# test the function\n",
    "print(count_ones('wpn_dts_1_folderstomerge\\Pistol-1','0'))"
   ]
  },
  {
   "cell_type": "code",
   "execution_count": 7,
   "metadata": {},
   "outputs": [
    {
     "name": "stdout",
     "output_type": "stream",
     "text": [
      "7030\n"
     ]
    }
   ],
   "source": [
    "print(count_ones('./test/labels'))"
   ]
  },
  {
   "cell_type": "code",
   "execution_count": 10,
   "metadata": {},
   "outputs": [
    {
     "name": "stdout",
     "output_type": "stream",
     "text": [
      "Knife - train : 7434\n",
      "Knife - valid : 899\n",
      "Knife - test : 841\n"
     ]
    }
   ],
   "source": [
    "# Knife \n",
    "print(\"Knife - train :\" ,count_ones('./train/labels','0'))\n",
    "print(\"Knife - valid :\" ,count_ones('./valid/labels','0'))\n",
    "print(\"Knife - test :\" ,count_ones('./test/labels','0'))"
   ]
  },
  {
   "cell_type": "code",
   "execution_count": 11,
   "metadata": {},
   "outputs": [
    {
     "name": "stdout",
     "output_type": "stream",
     "text": [
      "Pistol - train : 5893\n",
      "Pistol - valid : 717\n",
      "Pistol - test : 744\n",
      "Pistol - Total :  7354\n"
     ]
    }
   ],
   "source": [
    "# Pistol \n",
    "train_res = count_ones('./train/labels','2')\n",
    "val_res= count_ones('./valid/labels','2')\n",
    "test_res = count_ones('./test/labels','2')\n",
    "print(\"Pistol - train :\" , train_res)\n",
    "print(\"Pistol - valid :\" ,val_res)\n",
    "print(\"Pistol - test :\" , test_res)\n",
    "print(\"Pistol - Total : \", (train_res + val_res + test_res))"
   ]
  },
  {
   "cell_type": "code",
   "execution_count": 12,
   "metadata": {},
   "outputs": [
    {
     "name": "stdout",
     "output_type": "stream",
     "text": [
      "heavygun - train : 5895\n",
      "heavygun - valid : 830\n",
      "heavygun - test : 776\n",
      "heavygun - Total :  7501\n"
     ]
    }
   ],
   "source": [
    "# Heavy Gun \n",
    "train_res = count_ones('./train/labels','3')\n",
    "val_res= count_ones('./valid/labels','3')\n",
    "test_res = count_ones('./test/labels','3')\n",
    "print(\"heavygun - train :\" , train_res)\n",
    "print(\"heavygun - valid :\" ,val_res)\n",
    "print(\"heavygun - test :\" , test_res)\n",
    "print(\"heavygun - Total : \", (train_res + val_res + test_res))"
   ]
  },
  {
   "cell_type": "code",
   "execution_count": 13,
   "metadata": {},
   "outputs": [
    {
     "name": "stdout",
     "output_type": "stream",
     "text": [
      "Hammer - train : 3516\n",
      "Hammer - valid : 426\n",
      "Hammer - test : 426\n",
      "Hammer - Total :  4368\n"
     ]
    }
   ],
   "source": [
    "# Hammer  \n",
    "train_res = count_ones('./train/labels','4')\n",
    "val_res= count_ones('./valid/labels','4')\n",
    "test_res = count_ones('./test/labels','4')\n",
    "print(\"Hammer - train :\" , train_res)\n",
    "print(\"Hammer - valid :\" ,val_res)\n",
    "print(\"Hammer - test :\" , test_res)\n",
    "print(\"Hammer - Total : \", (train_res + val_res + test_res))"
   ]
  },
  {
   "attachments": {},
   "cell_type": "markdown",
   "metadata": {},
   "source": [
    "## Count the number of empty files in a given folder"
   ]
  },
  {
   "cell_type": "code",
   "execution_count": 1,
   "metadata": {},
   "outputs": [],
   "source": [
    "import os\n",
    "\n",
    "def count_empty_files(folder):\n",
    "    # Initialize the count\n",
    "    count = 0\n",
    "    \n",
    "    # Walk through all the files in the folder\n",
    "    for root, dirs, files in os.walk(folder):\n",
    "        for file in files:\n",
    "            # Get the full path of the file\n",
    "            file_path = os.path.join(root, file)\n",
    "            # Check if the file is empty\n",
    "            if os.stat(file_path).st_size == 0:\n",
    "                count += 1\n",
    "    return count\n",
    "\n"
   ]
  },
  {
   "cell_type": "code",
   "execution_count": 2,
   "metadata": {},
   "outputs": [
    {
     "name": "stdout",
     "output_type": "stream",
     "text": [
      "Number of empty files in wpn_dts_1_folderstomerge\\Scissor-2: 0\n"
     ]
    }
   ],
   "source": [
    "# test\n",
    "folder = 'wpn_dts_1_folderstomerge\\Scissor-2'\n",
    "empty_file_count = count_empty_files(folder)\n",
    "print(f'Number of empty files in {folder}: {empty_file_count}')"
   ]
  },
  {
   "cell_type": "code",
   "execution_count": 4,
   "metadata": {},
   "outputs": [
    {
     "name": "stdout",
     "output_type": "stream",
     "text": [
      "Number of empty files in train: 1093\n"
     ]
    }
   ],
   "source": [
    "# train\n",
    "folder = 'train'\n",
    "empty_file_count = count_empty_files(folder)\n",
    "print(f'Number of empty files in {folder}: {empty_file_count}')"
   ]
  },
  {
   "cell_type": "code",
   "execution_count": 5,
   "metadata": {},
   "outputs": [
    {
     "name": "stdout",
     "output_type": "stream",
     "text": [
      "Number of empty files in valid: 107\n"
     ]
    }
   ],
   "source": [
    "# valid\n",
    "folder = 'valid'\n",
    "empty_file_count = count_empty_files(folder)\n",
    "print(f'Number of empty files in {folder}: {empty_file_count}')"
   ]
  },
  {
   "attachments": {},
   "cell_type": "markdown",
   "metadata": {},
   "source": [
    "## count the number of empty files in a given folder and store the filenames (without extension) of the empty files in an array"
   ]
  },
  {
   "cell_type": "code",
   "execution_count": 19,
   "metadata": {},
   "outputs": [],
   "source": [
    "import os\n",
    "\n",
    "def count_empty_files(folder):\n",
    "    # Initialize an empty list to store the empty filenames\n",
    "    empty_filenames = []\n",
    "\n",
    "    # Initialize a counter to keep track of the number of empty files\n",
    "    empty_file_count = 0\n",
    "\n",
    "    # Iterate through all the files in the folder\n",
    "    for file in os.listdir(folder):\n",
    "        # Get the file name and path\n",
    "        file_path = os.path.join(folder, file)\n",
    "        # Check if the file is empty\n",
    "        if os.stat(file_path).st_size == 0:\n",
    "            # Increment the counter\n",
    "            empty_file_count += 1\n",
    "            # Get the file name without the extension\n",
    "            filename, file_extension = os.path.splitext(file)\n",
    "            # Add the filename to the list\n",
    "            empty_filenames.append(filename)\n",
    "\n",
    "    # Return the results as a tuple\n",
    "    return (empty_file_count, empty_filenames)\n",
    "\n"
   ]
  },
  {
   "cell_type": "code",
   "execution_count": 35,
   "metadata": {},
   "outputs": [],
   "source": [
    "# Test\n",
    "\n",
    "# folder = 'Knifev2/test/labels'\n",
    "# empty_file_count, empty_filenames = count_empty_files(folder)\n",
    "# print(\"Number of empty files:\", empty_file_count)\n",
    "# print(\"Empty filenames:\", empty_filenames)"
   ]
  },
  {
   "cell_type": "code",
   "execution_count": 52,
   "metadata": {},
   "outputs": [],
   "source": [
    "# Train\n",
    "\n",
    "# folder = 'Knifev2/train/labels'\n",
    "# empty_file_count, empty_filenames = count_empty_files(folder)\n",
    "# print(\"Number of empty files:\", empty_file_count)\n",
    "# print(\"Empty filenames:\", empty_filenames)"
   ]
  },
  {
   "cell_type": "code",
   "execution_count": 18,
   "metadata": {},
   "outputs": [
    {
     "name": "stdout",
     "output_type": "stream",
     "text": [
      "Number of empty files: 3\n",
      "Empty filenames: ['test', 'train', 'valid']\n"
     ]
    }
   ],
   "source": [
    "# valid \n",
    "folder = 'wpn_dts_1_folderstomerge/Heavy-Gun-Merged-v1-1'\n",
    "empty_file_count, empty_filenames = count_empty_files(folder)\n",
    "print(\"Number of empty files:\", empty_file_count)\n",
    "print(\"Empty filenames:\", empty_filenames)"
   ]
  },
  {
   "attachments": {},
   "cell_type": "markdown",
   "metadata": {},
   "source": [
    "## Delete all the files with matching filenames inside a folder, regardless of their extension"
   ]
  },
  {
   "cell_type": "code",
   "execution_count": 47,
   "metadata": {},
   "outputs": [
    {
     "data": {
      "text/plain": [
       "1083"
      ]
     },
     "execution_count": 47,
     "metadata": {},
     "output_type": "execute_result"
    }
   ],
   "source": [
    "len(empty_filenames)"
   ]
  },
  {
   "cell_type": "code",
   "execution_count": 17,
   "metadata": {},
   "outputs": [],
   "source": [
    "import os\n",
    "\n",
    "# List of filenames to ignore\n",
    "filenames_to_ignore = ['file1', 'file2', 'file3']\n",
    "filenames_to_ignore = empty_filenames\n",
    "# Folder where the files are located\n",
    "folder = 'wpn_dts_1_folderstomerge/Hammer-Dataset-2/train/labels'\n",
    "\n",
    "# Iterate through all the files in the folder\n",
    "for file in os.listdir(folder):\n",
    "    # Get the file name without the extension\n",
    "    filename, file_extension = os.path.splitext(file)\n",
    "    # If the file name is in the list of filenames to ignore, delete the file\n",
    "    if filename in filenames_to_ignore:\n",
    "        os.remove(os.path.join(folder, file))"
   ]
  },
  {
   "attachments": {},
   "cell_type": "markdown",
   "metadata": {},
   "source": [
    "## Program that will check for all the files with matching filenames inside a folder, regardless of their extension"
   ]
  },
  {
   "cell_type": "code",
   "execution_count": 49,
   "metadata": {},
   "outputs": [
    {
     "name": "stdout",
     "output_type": "stream",
     "text": [
      "Number of matching files: 0\n"
     ]
    }
   ],
   "source": [
    "import os\n",
    "\n",
    "# List of filenames to check for\n",
    "filenames_to_check = ['file1', 'file2', 'file3']\n",
    "filenames_to_check = empty_filenames\n",
    "\n",
    "# Folder where the files are located\n",
    "folder = 'Knifev2/test/'\n",
    "\n",
    "# Initialize a counter to keep track of the number of matching files\n",
    "matching_file_count = 0\n",
    "\n",
    "# Iterate through all the files in the folder\n",
    "for file in os.listdir(folder):\n",
    "    # Get the file name without the extension\n",
    "    filename, file_extension = os.path.splitext(file)\n",
    "    # If the file name is in the list of filenames to check, increment the counter\n",
    "    if filename in filenames_to_check:\n",
    "        matching_file_count += 1\n",
    "\n",
    "# Print the result\n",
    "print(\"Number of matching files:\", matching_file_count)"
   ]
  },
  {
   "attachments": {},
   "cell_type": "markdown",
   "metadata": {},
   "source": [
    " ## program that will check for all the files with matching filenames inside a folder, regardless of their extension, and rename them with their index in the filenames_to_check list"
   ]
  },
  {
   "cell_type": "code",
   "execution_count": 18,
   "metadata": {},
   "outputs": [],
   "source": [
    "import os\n",
    "\n",
    "# List of filenames to check for\n",
    "filenames_to_check = ['file1', 'file2', 'file3']\n",
    "filenames_to_check = empty_filenames\n",
    "\n",
    "# Folder where the files are located\n",
    "folder =  'Knifev2/testdelete/images'\n",
    "\n",
    "\n",
    "# Iterate through all the files in the folder\n",
    "for file in os.listdir(folder):\n",
    "    # Get the file name without the extension\n",
    "    filename, file_extension = os.path.splitext(file)\n",
    "    # If the file name is in the list of filenames to check, rename the file\n",
    "    if filename in filenames_to_check:\n",
    "        # Get the index of the filename in the list\n",
    "        index = filenames_to_check.index(filename)\n",
    "        # Construct the new file name\n",
    "        new_filename = str(index) + file_extension\n",
    "        # Rename the file\n",
    "        os.rename(os.path.join(folder, file), os.path.join(folder, new_filename))"
   ]
  },
  {
   "cell_type": "code",
   "execution_count": null,
   "metadata": {},
   "outputs": [],
   "source": []
  }
 ],
 "metadata": {
  "kernelspec": {
   "display_name": "tf_libraries",
   "language": "python",
   "name": "python3"
  },
  "language_info": {
   "codemirror_mode": {
    "name": "ipython",
    "version": 3
   },
   "file_extension": ".py",
   "mimetype": "text/x-python",
   "name": "python",
   "nbconvert_exporter": "python",
   "pygments_lexer": "ipython3",
   "version": "3.9.13"
  },
  "orig_nbformat": 4,
  "vscode": {
   "interpreter": {
    "hash": "36747e19a3ab467c1bd4d8440680c5b3e50a419c096ec22c7bcc5fd5c3d0c3d4"
   }
  }
 },
 "nbformat": 4,
 "nbformat_minor": 2
}
