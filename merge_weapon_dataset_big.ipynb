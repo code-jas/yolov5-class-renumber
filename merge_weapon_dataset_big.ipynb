{
 "cells": [
  {
   "cell_type": "markdown",
   "id": "040d051a-8501-466b-a48f-115dd205f97e",
   "metadata": {},
   "source": [
    "# Merge Weapon Dataset"
   ]
  },
  {
   "cell_type": "markdown",
   "id": "cfbcb7f9-60ce-4962-9bba-68c5a6b2da74",
   "metadata": {},
   "source": [
    "#### go to MergedWeaponDataset"
   ]
  },
  {
   "cell_type": "markdown",
   "id": "d70ee36d-e11e-4779-9c2b-08a53803ac0a",
   "metadata": {},
   "source": [
    "#### Install the person dataset"
   ]
  },
  {
   "cell_type": "code",
   "execution_count": 1,
   "id": "1ab76f67",
   "metadata": {},
   "outputs": [
    {
     "name": "stdout",
     "output_type": "stream",
     "text": [
      "e:\\repositories\\YOLO\\Dataset\\wpn_dts_v3_folderstomerge\n"
     ]
    }
   ],
   "source": [
    "cd wpn_dts_v3_folderstomerge  "
   ]
  },
  {
   "cell_type": "code",
   "execution_count": 2,
   "id": "e801c03a-5b33-4809-9537-6a9593771f50",
   "metadata": {},
   "outputs": [
    {
     "name": "stdout",
     "output_type": "stream",
     "text": [
      "loading Roboflow workspace...\n",
      "loading Roboflow project...\n",
      "Downloading Dataset Version Zip in Knf_Knaype_Cln2-2 to yolov5pytorch: 100% [542600256 / 542600256] bytes\n"
     ]
    },
    {
     "name": "stderr",
     "output_type": "stream",
     "text": [
      "Extracting Dataset Version Zip to Knf_Knaype_Cln2-2 in yolov5pytorch:: 100%|██████████| 26342/26342 [00:38<00:00, 688.62it/s] \n"
     ]
    }
   ],
   "source": [
    "\n",
    "from roboflow import Roboflow\n",
    "rf = Roboflow(api_key=\"AXksHRW2RRaRdxVWL4Ra\")\n",
    "project = rf.workspace(\"wpnv32-kn1fs\").project(\"knf_knaype_cln2\")\n",
    "dataset = project.version(2).download(\"yolov5\")\n"
   ]
  },
  {
   "cell_type": "markdown",
   "id": "044166bf-9342-4964-8013-64a455da2996",
   "metadata": {},
   "source": [
    "#### Install the knife dataset"
   ]
  },
  {
   "cell_type": "code",
   "execution_count": 3,
   "id": "27ce4488-baea-4adf-9216-bca905b308f9",
   "metadata": {},
   "outputs": [
    {
     "name": "stdout",
     "output_type": "stream",
     "text": [
      "loading Roboflow workspace...\n",
      "loading Roboflow project...\n",
      "Downloading Dataset Version Zip in Wpn_Pintol_di_kita-1 to yolov5pytorch: 100% [756076255 / 756076255] bytes\n"
     ]
    },
    {
     "name": "stderr",
     "output_type": "stream",
     "text": [
      "Extracting Dataset Version Zip to Wpn_Pintol_di_kita-1 in yolov5pytorch:: 100%|██████████| 34634/34634 [00:48<00:00, 720.90it/s] \n"
     ]
    }
   ],
   "source": [
    "# !pip install roboflow\n",
    "\n",
    "from roboflow import Roboflow\n",
    "rf = Roboflow(api_key=\"xArkAEWqUF1EjqPLZl6q\")\n",
    "project = rf.workspace(\"wpnv3-p1mp0lv2\").project(\"wpn_pintol_di_kita\")\n",
    "dataset = project.version(1).download(\"yolov5\")\n"
   ]
  },
  {
   "cell_type": "markdown",
   "id": "a89b8e99-4167-424e-a040-af5d50b3fbbb",
   "metadata": {},
   "source": [
    "#### Install the pistol dataset"
   ]
  },
  {
   "cell_type": "code",
   "execution_count": 4,
   "id": "8af9f983-d111-4f24-ab2d-32a0eead0d1e",
   "metadata": {},
   "outputs": [
    {
     "name": "stdout",
     "output_type": "stream",
     "text": [
      "loading Roboflow workspace...\n",
      "loading Roboflow project...\n",
      "Downloading Dataset Version Zip in hgan-spay-idyannooo-2 to yolov5pytorch: 100% [849340693 / 849340693] bytes\n"
     ]
    },
    {
     "name": "stderr",
     "output_type": "stream",
     "text": [
      "Extracting Dataset Version Zip to hgan-spay-idyannooo-2 in yolov5pytorch:: 100%|██████████| 26032/26032 [00:38<00:00, 680.44it/s] \n"
     ]
    }
   ],
   "source": [
    "\n",
    "\n",
    "from roboflow import Roboflow\n",
    "rf = Roboflow(api_key=\"QfjyyF5OVV1rrMO2TXt2\")\n",
    "project = rf.workspace(\"wpnv3-hg0nv2\").project(\"hgan-spay-idyannooo\")\n",
    "dataset = project.version(2).download(\"yolov5\")\n"
   ]
  },
  {
   "cell_type": "markdown",
   "id": "dee2e5f4-9867-4368-b207-aeda99da9438",
   "metadata": {},
   "source": [
    "#### Install the heavy weapon dataset"
   ]
  },
  {
   "cell_type": "code",
   "execution_count": 3,
   "id": "4c9635e6-3597-461c-a182-4fa3f37e22c6",
   "metadata": {},
   "outputs": [
    {
     "name": "stdout",
     "output_type": "stream",
     "text": [
      "loading Roboflow workspace...\n",
      "loading Roboflow project...\n",
      "Downloading Dataset Version Zip in Heavy-Gun-Merged-v1-1 to yolov5pytorch: 100% [340408940 / 340408940] bytes\n"
     ]
    },
    {
     "name": "stderr",
     "output_type": "stream",
     "text": [
      "Extracting Dataset Version Zip to Heavy-Gun-Merged-v1-1 in yolov5pytorch:: 100%|██████████| 16596/16596 [00:15<00:00, 1054.10it/s]\n"
     ]
    }
   ],
   "source": [
    "# !pip install roboflow\n",
    "\n",
    "from roboflow import Roboflow\n",
    "rf = Roboflow(api_key=\"Z2zFtLh2xPVBKStH7Ktg\")\n",
    "project = rf.workspace(\"heavygun\").project(\"heavy-gun-merged-v1\")\n",
    "dataset = project.version(1).download(\"yolov5\")\n",
    "\n",
    "\n",
    "from roboflow import Roboflow\n",
    "rf = Roboflow(api_key=\"I2KFRoXc66exDcFw2fuz\")\n",
    "project = rf.workspace(\"sadi0-zagcz\").project(\"hammer-dataset\")\n",
    "dataset = project.version(2).download(\"yolov5\")"
   ]
  },
  {
   "attachments": {},
   "cell_type": "markdown",
   "id": "dee2e5f4-9867-4368-b207-aeda99da9438",
   "metadata": {},
   "source": [
    "#### Install the hammer dataset"
   ]
  },
  {
   "cell_type": "code",
   "execution_count": 4,
   "id": "4c9635e6-3597-461c-a182-4fa3f37e22c6",
   "metadata": {},
   "outputs": [
    {
     "name": "stdout",
     "output_type": "stream",
     "text": [
      "loading Roboflow workspace...\n",
      "loading Roboflow project...\n",
      "Downloading Dataset Version Zip in Hammer-Dataset-2 to yolov5pytorch: 100% [192281650 / 192281650] bytes\n"
     ]
    },
    {
     "name": "stderr",
     "output_type": "stream",
     "text": [
      "Extracting Dataset Version Zip to Hammer-Dataset-2 in yolov5pytorch:: 100%|██████████| 8752/8752 [00:07<00:00, 1127.14it/s]\n"
     ]
    }
   ],
   "source": [
    "# !pip install roboflow\n",
    "\n",
    "from roboflow import Roboflow\n",
    "rf = Roboflow(api_key=\"I2KFRoXc66exDcFw2fuz\")\n",
    "project = rf.workspace(\"sadi0-zagcz\").project(\"hammer-dataset\")\n",
    "dataset = project.version(2).download(\"yolov5\")"
   ]
  },
  {
   "attachments": {},
   "cell_type": "markdown",
   "id": "dee2e5f4-9867-4368-b207-aeda99da9438",
   "metadata": {},
   "source": [
    "#### Install the scissor dataset"
   ]
  },
  {
   "cell_type": "code",
   "execution_count": 14,
   "id": "4c9635e6-3597-461c-a182-4fa3f37e22c6",
   "metadata": {},
   "outputs": [
    {
     "name": "stdout",
     "output_type": "stream",
     "text": [
      "loading Roboflow workspace...\n",
      "loading Roboflow project...\n",
      "Downloading Dataset Version Zip in Scissor-3 to yolov5pytorch: 100% [138857131 / 138857131] bytes\n"
     ]
    },
    {
     "name": "stderr",
     "output_type": "stream",
     "text": [
      "Extracting Dataset Version Zip to Scissor-3 in yolov5pytorch:: 100%|██████████| 8008/8008 [00:05<00:00, 1425.82it/s]\n"
     ]
    }
   ],
   "source": [
    "# !pip install roboflow\n",
    "\n",
    "from roboflow import Roboflow\n",
    "rf = Roboflow(api_key=\"I2KFRoXc66exDcFw2fuz\")\n",
    "project = rf.workspace(\"sadi0-zagcz\").project(\"scissor-0xnwn\")\n",
    "dataset = project.version(3).download(\"yolov5\")"
   ]
  },
  {
   "attachments": {},
   "cell_type": "markdown",
   "id": "dee2e5f4-9867-4368-b207-aeda99da9438",
   "metadata": {},
   "source": [
    "#### Install the brassknuckles dataset"
   ]
  },
  {
   "cell_type": "code",
   "execution_count": 6,
   "id": "4c9635e6-3597-461c-a182-4fa3f37e22c6",
   "metadata": {},
   "outputs": [
    {
     "name": "stdout",
     "output_type": "stream",
     "text": [
      "loading Roboflow workspace...\n",
      "loading Roboflow project...\n",
      "Downloading Dataset Version Zip in Brass-Knuckles-2 to yolov5pytorch: 100% [55311717 / 55311717] bytes\n"
     ]
    },
    {
     "name": "stderr",
     "output_type": "stream",
     "text": [
      "Extracting Dataset Version Zip to Brass-Knuckles-2 in yolov5pytorch:: 100%|██████████| 2958/2958 [00:02<00:00, 1452.03it/s]\n"
     ]
    }
   ],
   "source": [
    "# !pip install roboflow\n",
    "\n",
    "from roboflow import Roboflow\n",
    "rf = Roboflow(api_key=\"AAFtlIVoII8yD54vlU2x\")\n",
    "project = rf.workspace(\"sadi1-brass-knuckles\").project(\"brass-knuckles\")\n",
    "dataset = project.version(2).download(\"yolov5\")\n"
   ]
  },
  {
   "cell_type": "markdown",
   "id": "c73646dc-2c48-4e59-8d18-efdd947411aa",
   "metadata": {},
   "source": [
    "## Calculating a directory's size"
   ]
  },
  {
   "cell_type": "code",
   "execution_count": 2,
   "id": "a6ec016b-51ac-422a-88b6-e5738ce23a2a",
   "metadata": {},
   "outputs": [],
   "source": [
    "# GET THE SIZE OF THE FOLDER OR FILE\n",
    "\n",
    "import os\n",
    "def get_size(path = os.getcwd()):\n",
    "    print(\"Calculating Size: \",path)\n",
    "    total_size = 0\n",
    "    #if path is directory--\n",
    "    if os.path.isdir(path):\n",
    "      print(\"Path type : Directory/Folder\")\n",
    "      for dirpath, dirnames, filenames in os.walk(path):\n",
    "          for f in filenames:\n",
    "              fp = os.path.join(dirpath, f)\n",
    "              # skip if it is symbolic link\n",
    "              if not os.path.islink(fp):\n",
    "                  total_size += os.path.getsize(fp)\n",
    "    #if path is a file---\n",
    "    elif os.path.isfile(path):\n",
    "      print(\"Path type : File\")\n",
    "      total_size=os.path.getsize(path)\n",
    "    else:\n",
    "      print(\"Path Type : Special File (Socket, FIFO, Device File)\" )\n",
    "      total_size=0\n",
    "    bytesize=total_size\n",
    "    print(bytesize, 'bytes')\n",
    "    print(bytesize/(1024), 'kilobytes')\n",
    "    print(bytesize/(1024*1024), 'megabytes')\n",
    "    print(bytesize/(1024*1024*1024), 'gegabytes')\n",
    "    return total_size\n",
    "\n",
    "\n"
   ]
  },
  {
   "cell_type": "code",
   "execution_count": 4,
   "id": "4bffc0d1-3851-4b98-b007-b4fac244dfcd",
   "metadata": {},
   "outputs": [
    {
     "name": "stdout",
     "output_type": "stream",
     "text": [
      "Calculating Size:  ./\n",
      "Path type : Directory/Folder\n",
      "1700981757 bytes\n",
      "1661114.9970703125 kilobytes\n",
      "1622.182614326477 megabytes\n",
      "1.5841627093032002 gegabytes\n"
     ]
    }
   ],
   "source": [
    "x=get_size(\"./\")"
   ]
  },
  {
   "cell_type": "code",
   "execution_count": 7,
   "id": "7da0af98-ef63-45aa-981d-6de3e1662e16",
   "metadata": {},
   "outputs": [],
   "source": [
    "# x=get_size(\"Knife-dataset-4\")"
   ]
  },
  {
   "cell_type": "code",
   "execution_count": 8,
   "id": "96f0c1e8-3399-4e75-aacc-9f978be5e50e",
   "metadata": {},
   "outputs": [],
   "source": [
    "# x=get_size(\"Pistol-Dataset-1\")"
   ]
  },
  {
   "cell_type": "code",
   "execution_count": 9,
   "id": "ab955122-189b-40c3-ad85-6cbf929e3e8b",
   "metadata": {},
   "outputs": [],
   "source": [
    "# x=get_size(\"Heavy-Weapon-Dataset-1\")"
   ]
  },
  {
   "cell_type": "markdown",
   "id": "7182239d-d169-4e27-8f27-de2c55292479",
   "metadata": {},
   "source": [
    "## COPY DATASET"
   ]
  },
  {
   "cell_type": "markdown",
   "id": "09224c99-a5d7-4b5a-9334-d2423c125a40",
   "metadata": {},
   "source": [
    "to keep the original dataset copy all the dataset to new folder"
   ]
  },
  {
   "cell_type": "code",
   "execution_count": 10,
   "id": "76e38135-f6c9-4527-b877-57a3db3838d9",
   "metadata": {},
   "outputs": [],
   "source": [
    "# CLONE THE FOLDER\n",
    "\n",
    "import os\n",
    "import shutil\n",
    "import string\n",
    "import random\n",
    "\n",
    "# FUNCTION TO CLONE THE FOLDER\n",
    "def safe_dir_copy(oldfolder, newfolder):\n",
    "    tmpfolder = newfolder\n",
    "    while True:\n",
    "        if os.path.isdir(tmpfolder):\n",
    "            tmpfolder = \"-\".join((newfolder, \"\".join(random.choices(string.ascii_uppercase + string.digits, k=4))))\n",
    "        else:\n",
    "            break\n",
    "    shutil.copytree(oldfolder, tmpfolder)\n"
   ]
  },
  {
   "cell_type": "code",
   "execution_count": 28,
   "id": "f30beab0-a7ea-488e-8764-0ba17fdee52a",
   "metadata": {},
   "outputs": [],
   "source": [
    "# PERSON DATASET\n",
    "safe_dir_copy(\"person-dataset-4\", \"mod-person-dataset-4\")"
   ]
  },
  {
   "cell_type": "code",
   "execution_count": 33,
   "id": "f44a634d-6bc3-4084-a6a9-eee5ae03f216",
   "metadata": {},
   "outputs": [],
   "source": [
    "# KNIFE DATASET\n",
    "safe_dir_copy(\"Knife-dataset-4\", \"mod-Knife-dataset-4\")"
   ]
  },
  {
   "cell_type": "code",
   "execution_count": 34,
   "id": "289efd27-2414-4e17-8c35-89e140173d09",
   "metadata": {},
   "outputs": [],
   "source": [
    "# PISTOL DATASET\n",
    "safe_dir_copy(\"Pistol-Dataset-1\", \"mod-Pistol-Dataset-1\")"
   ]
  },
  {
   "cell_type": "code",
   "execution_count": 35,
   "id": "68047832-d1aa-44fc-98d8-96e9639b7f0a",
   "metadata": {},
   "outputs": [],
   "source": [
    "# HEAVY GUN DATASET\n",
    "safe_dir_copy(\"Heavy-Weapon-Dataset-1\", \"mod-Heavy-Weapon-Dataset-1\")"
   ]
  },
  {
   "cell_type": "code",
   "execution_count": 3,
   "id": "6e8ff3a2",
   "metadata": {},
   "outputs": [
    {
     "name": "stdout",
     "output_type": "stream",
     "text": [
      "e:\\repositories\\YOLO\\Dataset\\wpn_dts_v3_folderstomerge\n"
     ]
    }
   ],
   "source": [
    "cd wpn_dts_v3_folderstomerge"
   ]
  },
  {
   "cell_type": "markdown",
   "id": "6c414093-2cdc-4faf-a415-7fc57591322f",
   "metadata": {},
   "source": [
    "##  `modify_first_char` function that will modify the first character of each non-empty line in all text files in a given folder"
   ]
  },
  {
   "cell_type": "code",
   "execution_count": 4,
   "id": "4866737f-a2f7-47b6-81d3-4bc9dc9aee03",
   "metadata": {},
   "outputs": [],
   "source": [
    "import os\n",
    "\n",
    "def modify_first_chars(folder, class_idx):\n",
    "  # Get the list of files in the given folder\n",
    "  files = os.listdir(folder)\n",
    "\n",
    "  # Iterate over the files in the folder\n",
    "  for file in files:\n",
    "    # Open the file in read-only mode\n",
    "    with open(os.path.join(folder, file), 'r') as f:\n",
    "      # Read all the lines of the file\n",
    "      lines = f.readlines()\n",
    "\n",
    "    # Open the file in write mode\n",
    "    with open(os.path.join(folder, file), 'w') as f:\n",
    "      # Iterate over the lines of the file\n",
    "      for line in lines:\n",
    "        # Modify the first character of the line\n",
    "        line = class_idx + line[1:]\n",
    "\n",
    "        # Write the modified line back to the file\n",
    "        f.write(line)\n",
    "\n"
   ]
  },
  {
   "attachments": {},
   "cell_type": "markdown",
   "id": "ccb1f1bc-ee3c-4f44-8765-d0aa5c472f93",
   "metadata": {},
   "source": [
    "\n",
    "#### MODIFY PERSON CLASS INDEX AS 0\n"
   ]
  },
  {
   "cell_type": "code",
   "execution_count": null,
   "id": "c1e82cdc-3e1c-4b99-9a6a-a5a46609702b",
   "metadata": {},
   "outputs": [],
   "source": [
    "# class index for KNIFE is '0'\n",
    "\n",
    "# Call the function to modify the first character of all lines in all files in the \"files\" folder\n",
    "\n",
    "# # TEST LABEL\n",
    "# modify_first_chars(\"mod-Knife-dataset-4/test/labels\",\"0\")\n",
    "# # TRAIN LABEL\n",
    "# modify_first_chars(\"mod-Knife-dataset-4/train/labels\",\"0\")\n",
    "# #VALID LABEL\n",
    "# modify_first_chars(\"mod-Knife-dataset-4/valid/labels\",\"0\")\n"
   ]
  },
  {
   "attachments": {},
   "cell_type": "markdown",
   "id": "b5b5b0d7-78ca-425a-b07b-950011533fe8",
   "metadata": {},
   "source": [
    "\n",
    "#### MODIFY KNIFE CLASS INDEX AS 1\n"
   ]
  },
  {
   "cell_type": "code",
   "execution_count": 5,
   "id": "d0fda1ed-be52-48f7-9690-f8cd955a0d9f",
   "metadata": {},
   "outputs": [],
   "source": [
    "# class index for PERSON is '1'\n",
    "\n",
    "# Call the function to modify the first character of all lines in all files in the \"files\" folder\n",
    "\n",
    "# TEST LABEL\n",
    "modify_first_chars(\"Knife/test/labels\",\"1\")\n",
    "# TRAIN LABEL\n",
    "modify_first_chars(\"Knife/train/labels\",\"1\")\n",
    "#VALID LABEL\n",
    "modify_first_chars(\"Knife/valid/labels\",\"1\")\n"
   ]
  },
  {
   "cell_type": "markdown",
   "id": "33007db9-e766-4604-b6d3-868a7276cf90",
   "metadata": {},
   "source": [
    "\n",
    "#### MODIFY PISTOL CLASS INDEX AS 2\n"
   ]
  },
  {
   "cell_type": "code",
   "execution_count": null,
   "id": "af279203-05b9-4e89-be50-5c07de8315c0",
   "metadata": {},
   "outputs": [],
   "source": [
    "# class index for PISTOL is '2'\n",
    "\n",
    "# Call the function to modify the first character of all lines in all files in the \"files\" folder\n",
    "\n",
    "# TEST LABEL\n",
    "modify_first_chars(\"Pistol/test/labels\",\"4\")\n",
    "# TRAIN LABEL\n",
    "modify_first_chars(\"Pistol/train/labels\",\"4\")\n",
    "#VALID LABEL\n",
    "modify_first_chars(\"Pistol/valid/labels\",\"4\")\n"
   ]
  },
  {
   "cell_type": "markdown",
   "id": "b27c3471-b0f4-46f7-aa61-87cd32f07e7b",
   "metadata": {},
   "source": [
    "\n",
    "#### MODIFY HEAVYGUN CLASS INDEX AS 3\n"
   ]
  },
  {
   "cell_type": "code",
   "execution_count": 7,
   "id": "a28f381c-d75f-4a81-a709-5bd55c5ce491",
   "metadata": {},
   "outputs": [],
   "source": [
    "# class index for HEAVY GUN is '3'\n",
    "\n",
    "# Call the function to modify the first character of all lines in all files in the \"files\" folder\n",
    "\n",
    "# TEST LABEL\n",
    "modify_first_chars(\"Heavy-Gun/test/labels\",\"5\")\n",
    "# TRAIN LABEL\n",
    "modify_first_chars(\"Heavy-Gun/train/labels\",\"5\")\n",
    "#VALID LABEL\n",
    "modify_first_chars(\"Heavy-Gun/valid/labels\",\"5\")\n"
   ]
  },
  {
   "attachments": {},
   "cell_type": "markdown",
   "id": "b27c3471-b0f4-46f7-aa61-87cd32f07e7b",
   "metadata": {},
   "source": [
    "\n",
    "#### MODIFY HAMMER CLASS INDEX AS 4\n"
   ]
  },
  {
   "cell_type": "code",
   "execution_count": 9,
   "id": "a28f381c-d75f-4a81-a709-5bd55c5ce491",
   "metadata": {},
   "outputs": [],
   "source": [
    "# class index for HAMMER is '4'\n",
    "\n",
    "# Call the function to modify the first character of all lines in all files in the \"files\" folder\n",
    "\n",
    "# TEST LABEL\n",
    "modify_first_chars(\"Hammer/test/labels\",\"4\")\n",
    "#TRAIN LABEL\n",
    "modify_first_chars(\"Hammer/train/labels\",\"4\")\n",
    "#VALID LABEL\n",
    "modify_first_chars(\"Hammer/valid/labels\",\"4\")\n"
   ]
  },
  {
   "attachments": {},
   "cell_type": "markdown",
   "id": "b27c3471-b0f4-46f7-aa61-87cd32f07e7b",
   "metadata": {},
   "source": [
    "\n",
    "#### MODIFY SCISSOR CLASS INDEX AS 5\n"
   ]
  },
  {
   "cell_type": "code",
   "execution_count": 10,
   "id": "a28f381c-d75f-4a81-a709-5bd55c5ce491",
   "metadata": {},
   "outputs": [],
   "source": [
    "# class index for HAMMER is '4'\n",
    "\n",
    "# Call the function to modify the first character of all lines in all files in the \"files\" folder\n",
    "\n",
    "# TEST LABEL\n",
    "modify_first_chars(\"Scissor-2/test/labels\",\"5\")\n",
    "# TRAIN LABEL\n",
    "modify_first_chars(\"Scissor-2/train/labels\",\"5\")\n",
    "#VALID LABEL\n",
    "modify_first_chars(\"Scissor-2/valid/labels\",\"5\")\n"
   ]
  },
  {
   "attachments": {},
   "cell_type": "markdown",
   "id": "b27c3471-b0f4-46f7-aa61-87cd32f07e7b",
   "metadata": {},
   "source": [
    "\n",
    "#### MODIFY BRASS KNUCKLES CLASS INDEX AS 6\n"
   ]
  },
  {
   "cell_type": "code",
   "execution_count": 11,
   "id": "a28f381c-d75f-4a81-a709-5bd55c5ce491",
   "metadata": {},
   "outputs": [],
   "source": [
    "# class index for HAMMER is '4'\n",
    "\n",
    "# Call the function to modify the first character of all lines in all files in the \"files\" folder\n",
    "\n",
    "# TEST LABEL\n",
    "modify_first_chars(\"Brass-Knuckles/test/labels\",\"6\")\n",
    "# TRAIN LABEL\n",
    "modify_first_chars(\"Brass-Knuckles/train/labels\",\"6\")\n",
    "#VALID LABEL\n",
    "modify_first_chars(\"Brass-Knuckles/valid/labels\",\"6\")\n"
   ]
  },
  {
   "cell_type": "markdown",
   "id": "30ca766e-a130-48d3-bfeb-bd08c7075364",
   "metadata": {},
   "source": [
    "## REMOVE FOLDER"
   ]
  },
  {
   "cell_type": "code",
   "execution_count": 39,
   "id": "d90044b9-1a56-4221-a41f-165af4253b0c",
   "metadata": {},
   "outputs": [],
   "source": [
    "import shutil\n",
    "\n",
    "# shutil.rmtree('FOLDER_NAME')\n",
    "\n",
    "\n",
    "# By design, rmtree fails on folder trees containing read-only files. If you want the folder to be deleted regardless of whether it contains read-only files, then use\n",
    "# shutil.rmtree('/folder_name', ignore_errors=True)"
   ]
  }
 ],
 "metadata": {
  "kernelspec": {
   "display_name": "tf_libraries",
   "language": "python",
   "name": "python3"
  },
  "language_info": {
   "codemirror_mode": {
    "name": "ipython",
    "version": 3
   },
   "file_extension": ".py",
   "mimetype": "text/x-python",
   "name": "python",
   "nbconvert_exporter": "python",
   "pygments_lexer": "ipython3",
   "version": "3.9.13"
  },
  "toc-autonumbering": true,
  "toc-showmarkdowntxt": true,
  "vscode": {
   "interpreter": {
    "hash": "36747e19a3ab467c1bd4d8440680c5b3e50a419c096ec22c7bcc5fd5c3d0c3d4"
   }
  }
 },
 "nbformat": 4,
 "nbformat_minor": 5
}
